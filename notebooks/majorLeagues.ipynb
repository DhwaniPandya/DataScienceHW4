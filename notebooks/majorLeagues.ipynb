{
 "cells": [
  {
   "cell_type": "code",
   "execution_count": 1,
   "metadata": {},
   "outputs": [],
   "source": [
    "import pandas as pd\n",
    "import numpy as np\n",
    "import matplotlib.pyplot as plt\n",
    "\n",
    "%matplotlib inline"
   ]
  },
  {
   "cell_type": "code",
   "execution_count": 2,
   "metadata": {},
   "outputs": [
    {
     "data": {
      "text/html": [
       "<div>\n",
       "<style scoped>\n",
       "    .dataframe tbody tr th:only-of-type {\n",
       "        vertical-align: middle;\n",
       "    }\n",
       "\n",
       "    .dataframe tbody tr th {\n",
       "        vertical-align: top;\n",
       "    }\n",
       "\n",
       "    .dataframe thead th {\n",
       "        text-align: right;\n",
       "    }\n",
       "</style>\n",
       "<table border=\"1\" class=\"dataframe\">\n",
       "  <thead>\n",
       "    <tr style=\"text-align: right;\">\n",
       "      <th></th>\n",
       "      <th>date</th>\n",
       "      <th>season</th>\n",
       "      <th>neutral</th>\n",
       "      <th>playoff</th>\n",
       "      <th>team1</th>\n",
       "      <th>team2</th>\n",
       "      <th>elo1</th>\n",
       "      <th>elo2</th>\n",
       "      <th>elo_prob1</th>\n",
       "      <th>score1</th>\n",
       "      <th>score2</th>\n",
       "      <th>result1</th>\n",
       "    </tr>\n",
       "  </thead>\n",
       "  <tbody>\n",
       "    <tr>\n",
       "      <th>0</th>\n",
       "      <td>1920-09-26</td>\n",
       "      <td>1920</td>\n",
       "      <td>0</td>\n",
       "      <td>0</td>\n",
       "      <td>RII</td>\n",
       "      <td>STP</td>\n",
       "      <td>1503.947</td>\n",
       "      <td>1300.000</td>\n",
       "      <td>0.824651</td>\n",
       "      <td>48</td>\n",
       "      <td>0</td>\n",
       "      <td>1.0</td>\n",
       "    </tr>\n",
       "    <tr>\n",
       "      <th>1</th>\n",
       "      <td>1920-10-03</td>\n",
       "      <td>1920</td>\n",
       "      <td>0</td>\n",
       "      <td>0</td>\n",
       "      <td>AKR</td>\n",
       "      <td>WHE</td>\n",
       "      <td>1503.420</td>\n",
       "      <td>1300.000</td>\n",
       "      <td>0.824212</td>\n",
       "      <td>43</td>\n",
       "      <td>0</td>\n",
       "      <td>1.0</td>\n",
       "    </tr>\n",
       "    <tr>\n",
       "      <th>2</th>\n",
       "      <td>1920-10-03</td>\n",
       "      <td>1920</td>\n",
       "      <td>0</td>\n",
       "      <td>0</td>\n",
       "      <td>RCH</td>\n",
       "      <td>ABU</td>\n",
       "      <td>1503.420</td>\n",
       "      <td>1300.000</td>\n",
       "      <td>0.824212</td>\n",
       "      <td>10</td>\n",
       "      <td>0</td>\n",
       "      <td>1.0</td>\n",
       "    </tr>\n",
       "    <tr>\n",
       "      <th>3</th>\n",
       "      <td>1920-10-03</td>\n",
       "      <td>1920</td>\n",
       "      <td>0</td>\n",
       "      <td>0</td>\n",
       "      <td>DAY</td>\n",
       "      <td>COL</td>\n",
       "      <td>1493.002</td>\n",
       "      <td>1504.908</td>\n",
       "      <td>0.575819</td>\n",
       "      <td>14</td>\n",
       "      <td>0</td>\n",
       "      <td>1.0</td>\n",
       "    </tr>\n",
       "    <tr>\n",
       "      <th>4</th>\n",
       "      <td>1920-10-03</td>\n",
       "      <td>1920</td>\n",
       "      <td>0</td>\n",
       "      <td>0</td>\n",
       "      <td>RII</td>\n",
       "      <td>MUN</td>\n",
       "      <td>1516.108</td>\n",
       "      <td>1478.004</td>\n",
       "      <td>0.644171</td>\n",
       "      <td>45</td>\n",
       "      <td>0</td>\n",
       "      <td>1.0</td>\n",
       "    </tr>\n",
       "  </tbody>\n",
       "</table>\n",
       "</div>"
      ],
      "text/plain": [
       "         date  season  neutral  playoff team1 team2      elo1      elo2  \\\n",
       "0  1920-09-26    1920        0        0   RII   STP  1503.947  1300.000   \n",
       "1  1920-10-03    1920        0        0   AKR   WHE  1503.420  1300.000   \n",
       "2  1920-10-03    1920        0        0   RCH   ABU  1503.420  1300.000   \n",
       "3  1920-10-03    1920        0        0   DAY   COL  1493.002  1504.908   \n",
       "4  1920-10-03    1920        0        0   RII   MUN  1516.108  1478.004   \n",
       "\n",
       "   elo_prob1  score1  score2  result1  \n",
       "0   0.824651      48       0      1.0  \n",
       "1   0.824212      43       0      1.0  \n",
       "2   0.824212      10       0      1.0  \n",
       "3   0.575819      14       0      1.0  \n",
       "4   0.644171      45       0      1.0  "
      ]
     },
     "execution_count": 2,
     "metadata": {},
     "output_type": "execute_result"
    }
   ],
   "source": [
    "#Reading file nfl_games\n",
    "Path = r'C:\\Users\\Dhwani\\DataScienceHW4\\data\\raw\\nfl_games.csv'\n",
    "nflDf = pd.read_csv(Path)\n",
    "nflDf.head()"
   ]
  },
  {
   "cell_type": "code",
   "execution_count": 3,
   "metadata": {},
   "outputs": [],
   "source": [
    "nflDf= nflDf.drop(columns=['date','season','team1','team2','neutral','playoff','result1'])"
   ]
  },
  {
   "cell_type": "code",
   "execution_count": 4,
   "metadata": {},
   "outputs": [
    {
     "data": {
      "text/plain": [
       "(16007, 5)"
      ]
     },
     "execution_count": 4,
     "metadata": {},
     "output_type": "execute_result"
    }
   ],
   "source": [
    "nflDf.shape"
   ]
  },
  {
   "cell_type": "code",
   "execution_count": 5,
   "metadata": {},
   "outputs": [
    {
     "data": {
      "text/html": [
       "<div>\n",
       "<style scoped>\n",
       "    .dataframe tbody tr th:only-of-type {\n",
       "        vertical-align: middle;\n",
       "    }\n",
       "\n",
       "    .dataframe tbody tr th {\n",
       "        vertical-align: top;\n",
       "    }\n",
       "\n",
       "    .dataframe thead th {\n",
       "        text-align: right;\n",
       "    }\n",
       "</style>\n",
       "<table border=\"1\" class=\"dataframe\">\n",
       "  <thead>\n",
       "    <tr style=\"text-align: right;\">\n",
       "      <th></th>\n",
       "      <th>elo1</th>\n",
       "      <th>elo2</th>\n",
       "      <th>elo_prob1</th>\n",
       "      <th>score1</th>\n",
       "      <th>score2</th>\n",
       "    </tr>\n",
       "  </thead>\n",
       "  <tbody>\n",
       "    <tr>\n",
       "      <th>0</th>\n",
       "      <td>1503.947</td>\n",
       "      <td>1300.000</td>\n",
       "      <td>0.824651</td>\n",
       "      <td>48</td>\n",
       "      <td>0</td>\n",
       "    </tr>\n",
       "    <tr>\n",
       "      <th>1</th>\n",
       "      <td>1503.420</td>\n",
       "      <td>1300.000</td>\n",
       "      <td>0.824212</td>\n",
       "      <td>43</td>\n",
       "      <td>0</td>\n",
       "    </tr>\n",
       "    <tr>\n",
       "      <th>2</th>\n",
       "      <td>1503.420</td>\n",
       "      <td>1300.000</td>\n",
       "      <td>0.824212</td>\n",
       "      <td>10</td>\n",
       "      <td>0</td>\n",
       "    </tr>\n",
       "    <tr>\n",
       "      <th>3</th>\n",
       "      <td>1493.002</td>\n",
       "      <td>1504.908</td>\n",
       "      <td>0.575819</td>\n",
       "      <td>14</td>\n",
       "      <td>0</td>\n",
       "    </tr>\n",
       "    <tr>\n",
       "      <th>4</th>\n",
       "      <td>1516.108</td>\n",
       "      <td>1478.004</td>\n",
       "      <td>0.644171</td>\n",
       "      <td>45</td>\n",
       "      <td>0</td>\n",
       "    </tr>\n",
       "  </tbody>\n",
       "</table>\n",
       "</div>"
      ],
      "text/plain": [
       "       elo1      elo2  elo_prob1  score1  score2\n",
       "0  1503.947  1300.000   0.824651      48       0\n",
       "1  1503.420  1300.000   0.824212      43       0\n",
       "2  1503.420  1300.000   0.824212      10       0\n",
       "3  1493.002  1504.908   0.575819      14       0\n",
       "4  1516.108  1478.004   0.644171      45       0"
      ]
     },
     "execution_count": 5,
     "metadata": {},
     "output_type": "execute_result"
    }
   ],
   "source": [
    "nflDf.head()"
   ]
  },
  {
   "cell_type": "code",
   "execution_count": 7,
   "metadata": {},
   "outputs": [
    {
     "data": {
      "text/plain": [
       "elo1         0\n",
       "elo2         0\n",
       "elo_prob1    0\n",
       "score1       0\n",
       "score2       0\n",
       "dtype: int64"
      ]
     },
     "execution_count": 7,
     "metadata": {},
     "output_type": "execute_result"
    }
   ],
   "source": [
    "nflDf.isna().sum()"
   ]
  },
  {
   "cell_type": "code",
   "execution_count": 8,
   "metadata": {},
   "outputs": [],
   "source": [
    "# Sperate train and test data\n",
    "from sklearn.model_selection import train_test_split\n",
    "X = nflDf.drop(columns=['score1','score2'])\n",
    "y1 = nflDf.score1\n",
    "y2 = nflDf.score2\n",
    "X1_train, X1_test, y1_train, y1_test = train_test_split(X, y1, random_state=1)\n",
    "X2_train, X2_test, y2_train, y2_test = train_test_split(X, y2, random_state=1)"
   ]
  },
  {
   "cell_type": "code",
   "execution_count": 9,
   "metadata": {},
   "outputs": [
    {
     "data": {
      "text/plain": [
       "LinearRegression(copy_X=True, fit_intercept=True, n_jobs=1, normalize=False)"
      ]
     },
     "execution_count": 9,
     "metadata": {},
     "output_type": "execute_result"
    }
   ],
   "source": [
    "from sklearn.linear_model import LinearRegression\n",
    "# 1. Set up the model for score1 score2\n",
    "modelScore1 = LinearRegression()\n",
    "modelScore2 = LinearRegression()\n",
    "# 2. Use fit\n",
    "modelScore1.fit(X1_train, y1_train)\n",
    "modelScore2.fit(X1_train, y2_train)"
   ]
  },
  {
   "cell_type": "code",
   "execution_count": 10,
   "metadata": {},
   "outputs": [
    {
     "name": "stdout",
     "output_type": "stream",
     "text": [
      "Coefficients of score1: \n",
      " [ 0.03673268 -0.03163221 -8.96149853]\n",
      "Coefficients of score2: \n",
      " [-5.59568150e-03  9.48786401e-03 -1.21755995e+01]\n"
     ]
    }
   ],
   "source": [
    "print('Coefficients of score1: \\n', modelScore1.coef_)\n",
    "print('Coefficients of score2: \\n', modelScore2.coef_)"
   ]
  },
  {
   "cell_type": "code",
   "execution_count": 11,
   "metadata": {},
   "outputs": [
    {
     "name": "stdout",
     "output_type": "stream",
     "text": [
      "Intercept of team1 : \n",
      " 19.02033816737393\n",
      "Intercept of team2 : \n",
      " 19.829353029442977\n"
     ]
    }
   ],
   "source": [
    "print('Intercept of team1 : \\n',modelScore1.intercept_)\n",
    "print('Intercept of team2 : \\n',modelScore2.intercept_)"
   ]
  },
  {
   "cell_type": "code",
   "execution_count": 12,
   "metadata": {},
   "outputs": [],
   "source": [
    "predictedScoreTrain=modelScore1.predict(X1_train)\n",
    "predictedScoreTest=modelScore1.predict(X1_test)"
   ]
  },
  {
   "cell_type": "code",
   "execution_count": 13,
   "metadata": {},
   "outputs": [
    {
     "name": "stdout",
     "output_type": "stream",
     "text": [
      "116.45086064789184\n",
      "117.53545039843401\n",
      "105.72219488527077\n",
      "107.4870021013677\n"
     ]
    }
   ],
   "source": [
    "# Mean squared error for Score 1\n",
    "errorScore1 = np.mean(np.subtract(y1_train.values,predictedScoreTrain) ** 2)\n",
    "print (errorScore1)\n",
    "errorScore1 = np.mean(np.subtract(y1_test.values,predictedScoreTest) ** 2)\n",
    "print (errorScore1)\n",
    "\n",
    "#Mean squared error for score 2 \n",
    "errorScore2 = np.mean(np.subtract(y2_train.values,modelScore2.predict(X2_train)) ** 2)\n",
    "print (errorScore2)\n",
    "errorScore2 = np.mean(np.subtract(y2_test.values,modelScore2.predict(X2_test)) ** 2)\n",
    "print (errorScore2)"
   ]
  },
  {
   "cell_type": "code",
   "execution_count": 14,
   "metadata": {},
   "outputs": [
    {
     "data": {
      "text/plain": [
       "Text(0.5,1,'Residual Plot(Score 1) - Train:Blue and Test:Green')"
      ]
     },
     "execution_count": 14,
     "metadata": {},
     "output_type": "execute_result"
    },
    {
     "data": {
      "image/png": "[encoded data removed]",
      "text/plain": [
       "<Figure size 432x288 with 1 Axes>"
      ]
     },
     "metadata": {},
     "output_type": "display_data"
    }
   ],
   "source": [
    "# Residual Plot for score 1\n",
    "\n",
    "plt.scatter(predictedScoreTrain,np.subtract(predictedScoreTrain,y1_train.values),c='b',s=40,alpha=0.5)\n",
    "plt.scatter(predictedScoreTest,np.subtract(predictedScoreTest,y1_test.values),c='g',s=40)\n",
    "plt.hlines(y=0,xmin=0,xmax=50)\n",
    "\n",
    "plt.title('Residual Plot(Score 1) - Train:Blue and Test:Green')"
   ]
  },
  {
   "cell_type": "code",
   "execution_count": 15,
   "metadata": {},
   "outputs": [
    {
     "name": "stderr",
     "output_type": "stream",
     "text": [
      "C:\\Users\\Dhwani\\Anaconda3\\lib\\site-packages\\IPython\\core\\interactiveshell.py:2785: DtypeWarning: Columns (3) have mixed types. Specify dtype option on import or set low_memory=False.\n",
      "  interactivity=interactivity, compiler=compiler, result=result)\n"
     ]
    },
    {
     "data": {
      "text/html": [
       "<div>\n",
       "<style scoped>\n",
       "    .dataframe tbody tr th:only-of-type {\n",
       "        vertical-align: middle;\n",
       "    }\n",
       "\n",
       "    .dataframe tbody tr th {\n",
       "        vertical-align: top;\n",
       "    }\n",
       "\n",
       "    .dataframe thead th {\n",
       "        text-align: right;\n",
       "    }\n",
       "</style>\n",
       "<table border=\"1\" class=\"dataframe\">\n",
       "  <thead>\n",
       "    <tr style=\"text-align: right;\">\n",
       "      <th></th>\n",
       "      <th>date</th>\n",
       "      <th>season</th>\n",
       "      <th>neutral</th>\n",
       "      <th>playoff</th>\n",
       "      <th>team1</th>\n",
       "      <th>team2</th>\n",
       "      <th>elo1_pre</th>\n",
       "      <th>elo2_pre</th>\n",
       "      <th>elo_prob1</th>\n",
       "      <th>elo_prob2</th>\n",
       "      <th>...</th>\n",
       "      <th>pitcher1_rgs</th>\n",
       "      <th>pitcher2_rgs</th>\n",
       "      <th>pitcher1_adj</th>\n",
       "      <th>pitcher2_adj</th>\n",
       "      <th>rating_prob1</th>\n",
       "      <th>rating_prob2</th>\n",
       "      <th>rating1_post</th>\n",
       "      <th>rating2_post</th>\n",
       "      <th>score1</th>\n",
       "      <th>score2</th>\n",
       "    </tr>\n",
       "  </thead>\n",
       "  <tbody>\n",
       "    <tr>\n",
       "      <th>0</th>\n",
       "      <td>2018-10-21</td>\n",
       "      <td>2018</td>\n",
       "      <td>0</td>\n",
       "      <td>l</td>\n",
       "      <td>BOS</td>\n",
       "      <td>HOU</td>\n",
       "      <td>1581.755890</td>\n",
       "      <td>1604.114732</td>\n",
       "      <td>0.503149</td>\n",
       "      <td>0.496851</td>\n",
       "      <td>...</td>\n",
       "      <td>NaN</td>\n",
       "      <td>NaN</td>\n",
       "      <td>NaN</td>\n",
       "      <td>NaN</td>\n",
       "      <td>0.509994</td>\n",
       "      <td>0.490006</td>\n",
       "      <td>NaN</td>\n",
       "      <td>NaN</td>\n",
       "      <td>NaN</td>\n",
       "      <td>NaN</td>\n",
       "    </tr>\n",
       "    <tr>\n",
       "      <th>1</th>\n",
       "      <td>2018-10-20</td>\n",
       "      <td>2018</td>\n",
       "      <td>0</td>\n",
       "      <td>l</td>\n",
       "      <td>MIL</td>\n",
       "      <td>LAD</td>\n",
       "      <td>1556.560437</td>\n",
       "      <td>1578.732466</td>\n",
       "      <td>0.503507</td>\n",
       "      <td>0.496493</td>\n",
       "      <td>...</td>\n",
       "      <td>NaN</td>\n",
       "      <td>NaN</td>\n",
       "      <td>NaN</td>\n",
       "      <td>NaN</td>\n",
       "      <td>0.477322</td>\n",
       "      <td>0.522678</td>\n",
       "      <td>NaN</td>\n",
       "      <td>NaN</td>\n",
       "      <td>NaN</td>\n",
       "      <td>NaN</td>\n",
       "    </tr>\n",
       "    <tr>\n",
       "      <th>2</th>\n",
       "      <td>2018-10-20</td>\n",
       "      <td>2018</td>\n",
       "      <td>0</td>\n",
       "      <td>l</td>\n",
       "      <td>BOS</td>\n",
       "      <td>HOU</td>\n",
       "      <td>1581.755890</td>\n",
       "      <td>1604.114732</td>\n",
       "      <td>0.503149</td>\n",
       "      <td>0.496851</td>\n",
       "      <td>...</td>\n",
       "      <td>NaN</td>\n",
       "      <td>NaN</td>\n",
       "      <td>NaN</td>\n",
       "      <td>NaN</td>\n",
       "      <td>0.509994</td>\n",
       "      <td>0.490006</td>\n",
       "      <td>NaN</td>\n",
       "      <td>NaN</td>\n",
       "      <td>NaN</td>\n",
       "      <td>NaN</td>\n",
       "    </tr>\n",
       "    <tr>\n",
       "      <th>3</th>\n",
       "      <td>2018-10-19</td>\n",
       "      <td>2018</td>\n",
       "      <td>0</td>\n",
       "      <td>l</td>\n",
       "      <td>MIL</td>\n",
       "      <td>LAD</td>\n",
       "      <td>1556.560437</td>\n",
       "      <td>1578.732466</td>\n",
       "      <td>0.503507</td>\n",
       "      <td>0.496493</td>\n",
       "      <td>...</td>\n",
       "      <td>NaN</td>\n",
       "      <td>NaN</td>\n",
       "      <td>NaN</td>\n",
       "      <td>NaN</td>\n",
       "      <td>0.479401</td>\n",
       "      <td>0.520599</td>\n",
       "      <td>NaN</td>\n",
       "      <td>NaN</td>\n",
       "      <td>NaN</td>\n",
       "      <td>NaN</td>\n",
       "    </tr>\n",
       "    <tr>\n",
       "      <th>4</th>\n",
       "      <td>2018-10-18</td>\n",
       "      <td>2018</td>\n",
       "      <td>0</td>\n",
       "      <td>l</td>\n",
       "      <td>HOU</td>\n",
       "      <td>BOS</td>\n",
       "      <td>1604.114732</td>\n",
       "      <td>1581.755890</td>\n",
       "      <td>0.588028</td>\n",
       "      <td>0.411972</td>\n",
       "      <td>...</td>\n",
       "      <td>NaN</td>\n",
       "      <td>NaN</td>\n",
       "      <td>NaN</td>\n",
       "      <td>NaN</td>\n",
       "      <td>0.569861</td>\n",
       "      <td>0.430139</td>\n",
       "      <td>NaN</td>\n",
       "      <td>NaN</td>\n",
       "      <td>NaN</td>\n",
       "      <td>NaN</td>\n",
       "    </tr>\n",
       "    <tr>\n",
       "      <th>5</th>\n",
       "      <td>2018-10-17</td>\n",
       "      <td>2018</td>\n",
       "      <td>0</td>\n",
       "      <td>l</td>\n",
       "      <td>HOU</td>\n",
       "      <td>BOS</td>\n",
       "      <td>1604.114732</td>\n",
       "      <td>1581.755890</td>\n",
       "      <td>0.588028</td>\n",
       "      <td>0.411972</td>\n",
       "      <td>...</td>\n",
       "      <td>NaN</td>\n",
       "      <td>NaN</td>\n",
       "      <td>NaN</td>\n",
       "      <td>NaN</td>\n",
       "      <td>0.575300</td>\n",
       "      <td>0.424700</td>\n",
       "      <td>NaN</td>\n",
       "      <td>NaN</td>\n",
       "      <td>NaN</td>\n",
       "      <td>NaN</td>\n",
       "    </tr>\n",
       "    <tr>\n",
       "      <th>6</th>\n",
       "      <td>2018-10-17</td>\n",
       "      <td>2018</td>\n",
       "      <td>0</td>\n",
       "      <td>l</td>\n",
       "      <td>LAD</td>\n",
       "      <td>MIL</td>\n",
       "      <td>1578.732466</td>\n",
       "      <td>1556.560437</td>\n",
       "      <td>0.587680</td>\n",
       "      <td>0.412320</td>\n",
       "      <td>...</td>\n",
       "      <td>NaN</td>\n",
       "      <td>NaN</td>\n",
       "      <td>NaN</td>\n",
       "      <td>NaN</td>\n",
       "      <td>0.627664</td>\n",
       "      <td>0.372336</td>\n",
       "      <td>NaN</td>\n",
       "      <td>NaN</td>\n",
       "      <td>NaN</td>\n",
       "      <td>NaN</td>\n",
       "    </tr>\n",
       "    <tr>\n",
       "      <th>7</th>\n",
       "      <td>2018-10-16</td>\n",
       "      <td>2018</td>\n",
       "      <td>0</td>\n",
       "      <td>l</td>\n",
       "      <td>LAD</td>\n",
       "      <td>MIL</td>\n",
       "      <td>1578.732466</td>\n",
       "      <td>1556.560437</td>\n",
       "      <td>0.587680</td>\n",
       "      <td>0.412320</td>\n",
       "      <td>...</td>\n",
       "      <td>54.297595</td>\n",
       "      <td>NaN</td>\n",
       "      <td>3.481554</td>\n",
       "      <td>NaN</td>\n",
       "      <td>0.611002</td>\n",
       "      <td>0.388998</td>\n",
       "      <td>NaN</td>\n",
       "      <td>NaN</td>\n",
       "      <td>NaN</td>\n",
       "      <td>NaN</td>\n",
       "    </tr>\n",
       "    <tr>\n",
       "      <th>8</th>\n",
       "      <td>2018-10-16</td>\n",
       "      <td>2018</td>\n",
       "      <td>0</td>\n",
       "      <td>l</td>\n",
       "      <td>HOU</td>\n",
       "      <td>BOS</td>\n",
       "      <td>1604.114732</td>\n",
       "      <td>1581.755890</td>\n",
       "      <td>0.588028</td>\n",
       "      <td>0.411972</td>\n",
       "      <td>...</td>\n",
       "      <td>NaN</td>\n",
       "      <td>NaN</td>\n",
       "      <td>NaN</td>\n",
       "      <td>NaN</td>\n",
       "      <td>0.575300</td>\n",
       "      <td>0.424700</td>\n",
       "      <td>NaN</td>\n",
       "      <td>NaN</td>\n",
       "      <td>NaN</td>\n",
       "      <td>NaN</td>\n",
       "    </tr>\n",
       "    <tr>\n",
       "      <th>9</th>\n",
       "      <td>2018-10-15</td>\n",
       "      <td>2018</td>\n",
       "      <td>0</td>\n",
       "      <td>l</td>\n",
       "      <td>LAD</td>\n",
       "      <td>MIL</td>\n",
       "      <td>1578.732466</td>\n",
       "      <td>1556.560437</td>\n",
       "      <td>0.587680</td>\n",
       "      <td>0.412320</td>\n",
       "      <td>...</td>\n",
       "      <td>58.029449</td>\n",
       "      <td>54.051139</td>\n",
       "      <td>21.021268</td>\n",
       "      <td>10.943109</td>\n",
       "      <td>0.608447</td>\n",
       "      <td>0.391553</td>\n",
       "      <td>NaN</td>\n",
       "      <td>NaN</td>\n",
       "      <td>NaN</td>\n",
       "      <td>NaN</td>\n",
       "    </tr>\n",
       "  </tbody>\n",
       "</table>\n",
       "<p>10 rows × 26 columns</p>\n",
       "</div>"
      ],
      "text/plain": [
       "         date  season  neutral playoff team1 team2     elo1_pre     elo2_pre  \\\n",
       "0  2018-10-21    2018        0       l   BOS   HOU  1581.755890  1604.114732   \n",
       "1  2018-10-20    2018        0       l   MIL   LAD  1556.560437  1578.732466   \n",
       "2  2018-10-20    2018        0       l   BOS   HOU  1581.755890  1604.114732   \n",
       "3  2018-10-19    2018        0       l   MIL   LAD  1556.560437  1578.732466   \n",
       "4  2018-10-18    2018        0       l   HOU   BOS  1604.114732  1581.755890   \n",
       "5  2018-10-17    2018        0       l   HOU   BOS  1604.114732  1581.755890   \n",
       "6  2018-10-17    2018        0       l   LAD   MIL  1578.732466  1556.560437   \n",
       "7  2018-10-16    2018        0       l   LAD   MIL  1578.732466  1556.560437   \n",
       "8  2018-10-16    2018        0       l   HOU   BOS  1604.114732  1581.755890   \n",
       "9  2018-10-15    2018        0       l   LAD   MIL  1578.732466  1556.560437   \n",
       "\n",
       "   elo_prob1  elo_prob2   ...    pitcher1_rgs  pitcher2_rgs  pitcher1_adj  \\\n",
       "0   0.503149   0.496851   ...             NaN           NaN           NaN   \n",
       "1   0.503507   0.496493   ...             NaN           NaN           NaN   \n",
       "2   0.503149   0.496851   ...             NaN           NaN           NaN   \n",
       "3   0.503507   0.496493   ...             NaN           NaN           NaN   \n",
       "4   0.588028   0.411972   ...             NaN           NaN           NaN   \n",
       "5   0.588028   0.411972   ...             NaN           NaN           NaN   \n",
       "6   0.587680   0.412320   ...             NaN           NaN           NaN   \n",
       "7   0.587680   0.412320   ...       54.297595           NaN      3.481554   \n",
       "8   0.588028   0.411972   ...             NaN           NaN           NaN   \n",
       "9   0.587680   0.412320   ...       58.029449     54.051139     21.021268   \n",
       "\n",
       "   pitcher2_adj rating_prob1 rating_prob2  rating1_post  rating2_post  score1  \\\n",
       "0           NaN     0.509994     0.490006           NaN           NaN     NaN   \n",
       "1           NaN     0.477322     0.522678           NaN           NaN     NaN   \n",
       "2           NaN     0.509994     0.490006           NaN           NaN     NaN   \n",
       "3           NaN     0.479401     0.520599           NaN           NaN     NaN   \n",
       "4           NaN     0.569861     0.430139           NaN           NaN     NaN   \n",
       "5           NaN     0.575300     0.424700           NaN           NaN     NaN   \n",
       "6           NaN     0.627664     0.372336           NaN           NaN     NaN   \n",
       "7           NaN     0.611002     0.388998           NaN           NaN     NaN   \n",
       "8           NaN     0.575300     0.424700           NaN           NaN     NaN   \n",
       "9     10.943109     0.608447     0.391553           NaN           NaN     NaN   \n",
       "\n",
       "   score2  \n",
       "0     NaN  \n",
       "1     NaN  \n",
       "2     NaN  \n",
       "3     NaN  \n",
       "4     NaN  \n",
       "5     NaN  \n",
       "6     NaN  \n",
       "7     NaN  \n",
       "8     NaN  \n",
       "9     NaN  \n",
       "\n",
       "[10 rows x 26 columns]"
      ]
     },
     "execution_count": 15,
     "metadata": {},
     "output_type": "execute_result"
    }
   ],
   "source": [
    "# I am not satisfied with the error so trying on different dataset\n",
    "FilePath = r'C:\\Users\\Dhwani\\DataScienceHW4\\data\\raw\\mlb_elo.csv'\n",
    "mlbDf = pd.read_csv(FilePath)\n",
    "mlbDf.head(10)"
   ]
  },
  {
   "cell_type": "code",
   "execution_count": 16,
   "metadata": {},
   "outputs": [],
   "source": [
    "#Feature Engineering dropping columns which are not required for regression\n",
    "\n",
    "mlbDf = mlbDf.drop(columns=['date','season','team1','team2','neutral','playoff','pitcher1','pitcher2'])"
   ]
  },
  {
   "cell_type": "code",
   "execution_count": 17,
   "metadata": {},
   "outputs": [
    {
     "data": {
      "text/plain": [
       "elo1_pre            0\n",
       "elo2_pre            0\n",
       "elo_prob1           0\n",
       "elo_prob2           0\n",
       "elo1_post          11\n",
       "elo2_post          11\n",
       "rating1_pre         0\n",
       "rating2_pre         0\n",
       "pitcher1_rgs    33749\n",
       "pitcher2_rgs    33750\n",
       "pitcher1_adj    34430\n",
       "pitcher2_adj    34430\n",
       "rating_prob1        0\n",
       "rating_prob2        0\n",
       "rating1_post       11\n",
       "rating2_post       11\n",
       "score1             11\n",
       "score2             11\n",
       "dtype: int64"
      ]
     },
     "execution_count": 17,
     "metadata": {},
     "output_type": "execute_result"
    }
   ],
   "source": [
    "#Checking for null values\n",
    "\n",
    "mlbDf.isna().sum()"
   ]
  },
  {
   "cell_type": "code",
   "execution_count": 18,
   "metadata": {},
   "outputs": [
    {
     "data": {
      "text/plain": [
       "elo1_pre        0\n",
       "elo2_pre        0\n",
       "elo_prob1       0\n",
       "elo_prob2       0\n",
       "elo1_post       0\n",
       "elo2_post       0\n",
       "rating1_pre     0\n",
       "rating2_pre     0\n",
       "pitcher1_rgs    0\n",
       "pitcher2_rgs    0\n",
       "pitcher1_adj    0\n",
       "pitcher2_adj    0\n",
       "rating_prob1    0\n",
       "rating_prob2    0\n",
       "rating1_post    0\n",
       "rating2_post    0\n",
       "score1          0\n",
       "score2          0\n",
       "dtype: int64"
      ]
     },
     "execution_count": 18,
     "metadata": {},
     "output_type": "execute_result"
    }
   ],
   "source": [
    "#Replacing null values with mean\n",
    "\n",
    "mlbDf.fillna(mlbDf.mean(),inplace=True)\n",
    "mlbDf.isna().sum()"
   ]
  },
  {
   "cell_type": "code",
   "execution_count": 19,
   "metadata": {},
   "outputs": [
    {
     "data": {
      "text/html": [
       "<div>\n",
       "<style scoped>\n",
       "    .dataframe tbody tr th:only-of-type {\n",
       "        vertical-align: middle;\n",
       "    }\n",
       "\n",
       "    .dataframe tbody tr th {\n",
       "        vertical-align: top;\n",
       "    }\n",
       "\n",
       "    .dataframe thead th {\n",
       "        text-align: right;\n",
       "    }\n",
       "</style>\n",
       "<table border=\"1\" class=\"dataframe\">\n",
       "  <thead>\n",
       "    <tr style=\"text-align: right;\">\n",
       "      <th></th>\n",
       "      <th>elo1_pre</th>\n",
       "      <th>elo2_pre</th>\n",
       "      <th>elo_prob1</th>\n",
       "      <th>elo_prob2</th>\n",
       "      <th>elo1_post</th>\n",
       "      <th>elo2_post</th>\n",
       "      <th>rating1_pre</th>\n",
       "      <th>rating2_pre</th>\n",
       "      <th>pitcher1_rgs</th>\n",
       "      <th>pitcher2_rgs</th>\n",
       "      <th>pitcher1_adj</th>\n",
       "      <th>pitcher2_adj</th>\n",
       "      <th>rating_prob1</th>\n",
       "      <th>rating_prob2</th>\n",
       "      <th>rating1_post</th>\n",
       "      <th>rating2_post</th>\n",
       "      <th>score1</th>\n",
       "      <th>score2</th>\n",
       "    </tr>\n",
       "  </thead>\n",
       "  <tbody>\n",
       "    <tr>\n",
       "      <th>0</th>\n",
       "      <td>1581.755890</td>\n",
       "      <td>1604.114732</td>\n",
       "      <td>0.503149</td>\n",
       "      <td>0.496851</td>\n",
       "      <td>1503.763443</td>\n",
       "      <td>1503.405033</td>\n",
       "      <td>1584.723106</td>\n",
       "      <td>1613.970612</td>\n",
       "      <td>50.336562</td>\n",
       "      <td>50.313851</td>\n",
       "      <td>6.625906</td>\n",
       "      <td>6.656227</td>\n",
       "      <td>0.509994</td>\n",
       "      <td>0.490006</td>\n",
       "      <td>1503.759261</td>\n",
       "      <td>1503.413972</td>\n",
       "      <td>4.649708</td>\n",
       "      <td>4.403278</td>\n",
       "    </tr>\n",
       "    <tr>\n",
       "      <th>1</th>\n",
       "      <td>1556.560437</td>\n",
       "      <td>1578.732466</td>\n",
       "      <td>0.503507</td>\n",
       "      <td>0.496493</td>\n",
       "      <td>1503.763443</td>\n",
       "      <td>1503.405033</td>\n",
       "      <td>1559.933439</td>\n",
       "      <td>1583.284744</td>\n",
       "      <td>50.336562</td>\n",
       "      <td>50.313851</td>\n",
       "      <td>6.625906</td>\n",
       "      <td>6.656227</td>\n",
       "      <td>0.477322</td>\n",
       "      <td>0.522678</td>\n",
       "      <td>1503.759261</td>\n",
       "      <td>1503.413972</td>\n",
       "      <td>4.649708</td>\n",
       "      <td>4.403278</td>\n",
       "    </tr>\n",
       "    <tr>\n",
       "      <th>2</th>\n",
       "      <td>1581.755890</td>\n",
       "      <td>1604.114732</td>\n",
       "      <td>0.503149</td>\n",
       "      <td>0.496851</td>\n",
       "      <td>1503.763443</td>\n",
       "      <td>1503.405033</td>\n",
       "      <td>1584.723106</td>\n",
       "      <td>1613.970612</td>\n",
       "      <td>50.336562</td>\n",
       "      <td>50.313851</td>\n",
       "      <td>6.625906</td>\n",
       "      <td>6.656227</td>\n",
       "      <td>0.509994</td>\n",
       "      <td>0.490006</td>\n",
       "      <td>1503.759261</td>\n",
       "      <td>1503.413972</td>\n",
       "      <td>4.649708</td>\n",
       "      <td>4.403278</td>\n",
       "    </tr>\n",
       "    <tr>\n",
       "      <th>3</th>\n",
       "      <td>1556.560437</td>\n",
       "      <td>1578.732466</td>\n",
       "      <td>0.503507</td>\n",
       "      <td>0.496493</td>\n",
       "      <td>1503.763443</td>\n",
       "      <td>1503.405033</td>\n",
       "      <td>1559.933439</td>\n",
       "      <td>1583.284744</td>\n",
       "      <td>50.336562</td>\n",
       "      <td>50.313851</td>\n",
       "      <td>6.625906</td>\n",
       "      <td>6.656227</td>\n",
       "      <td>0.479401</td>\n",
       "      <td>0.520599</td>\n",
       "      <td>1503.759261</td>\n",
       "      <td>1503.413972</td>\n",
       "      <td>4.649708</td>\n",
       "      <td>4.403278</td>\n",
       "    </tr>\n",
       "    <tr>\n",
       "      <th>4</th>\n",
       "      <td>1604.114732</td>\n",
       "      <td>1581.755890</td>\n",
       "      <td>0.588028</td>\n",
       "      <td>0.411972</td>\n",
       "      <td>1503.763443</td>\n",
       "      <td>1503.405033</td>\n",
       "      <td>1613.970612</td>\n",
       "      <td>1584.723106</td>\n",
       "      <td>50.336562</td>\n",
       "      <td>50.313851</td>\n",
       "      <td>6.625906</td>\n",
       "      <td>6.656227</td>\n",
       "      <td>0.569861</td>\n",
       "      <td>0.430139</td>\n",
       "      <td>1503.759261</td>\n",
       "      <td>1503.413972</td>\n",
       "      <td>4.649708</td>\n",
       "      <td>4.403278</td>\n",
       "    </tr>\n",
       "  </tbody>\n",
       "</table>\n",
       "</div>"
      ],
      "text/plain": [
       "      elo1_pre     elo2_pre  elo_prob1  elo_prob2    elo1_post    elo2_post  \\\n",
       "0  1581.755890  1604.114732   0.503149   0.496851  1503.763443  1503.405033   \n",
       "1  1556.560437  1578.732466   0.503507   0.496493  1503.763443  1503.405033   \n",
       "2  1581.755890  1604.114732   0.503149   0.496851  1503.763443  1503.405033   \n",
       "3  1556.560437  1578.732466   0.503507   0.496493  1503.763443  1503.405033   \n",
       "4  1604.114732  1581.755890   0.588028   0.411972  1503.763443  1503.405033   \n",
       "\n",
       "   rating1_pre  rating2_pre  pitcher1_rgs  pitcher2_rgs  pitcher1_adj  \\\n",
       "0  1584.723106  1613.970612     50.336562     50.313851      6.625906   \n",
       "1  1559.933439  1583.284744     50.336562     50.313851      6.625906   \n",
       "2  1584.723106  1613.970612     50.336562     50.313851      6.625906   \n",
       "3  1559.933439  1583.284744     50.336562     50.313851      6.625906   \n",
       "4  1613.970612  1584.723106     50.336562     50.313851      6.625906   \n",
       "\n",
       "   pitcher2_adj  rating_prob1  rating_prob2  rating1_post  rating2_post  \\\n",
       "0      6.656227      0.509994      0.490006   1503.759261   1503.413972   \n",
       "1      6.656227      0.477322      0.522678   1503.759261   1503.413972   \n",
       "2      6.656227      0.509994      0.490006   1503.759261   1503.413972   \n",
       "3      6.656227      0.479401      0.520599   1503.759261   1503.413972   \n",
       "4      6.656227      0.569861      0.430139   1503.759261   1503.413972   \n",
       "\n",
       "     score1    score2  \n",
       "0  4.649708  4.403278  \n",
       "1  4.649708  4.403278  \n",
       "2  4.649708  4.403278  \n",
       "3  4.649708  4.403278  \n",
       "4  4.649708  4.403278  "
      ]
     },
     "execution_count": 19,
     "metadata": {},
     "output_type": "execute_result"
    }
   ],
   "source": [
    "mlbDf.head()"
   ]
  },
  {
   "cell_type": "code",
   "execution_count": 20,
   "metadata": {},
   "outputs": [],
   "source": [
    "# Sperating train and test data\n",
    "from sklearn.model_selection import train_test_split\n",
    "X = mlbDf.drop(columns=['score1','score2'])\n",
    "y1 = mlbDf.score1\n",
    "y2 = mlbDf.score2\n",
    "X1_train, X1_test, y1_train, y1_test = train_test_split(X, y1, random_state=1)\n",
    "X2_train, X2_test, y2_train, y2_test = train_test_split(X, y2, random_state=1)"
   ]
  },
  {
   "cell_type": "code",
   "execution_count": 21,
   "metadata": {},
   "outputs": [
    {
     "data": {
      "text/plain": [
       "LinearRegression(copy_X=True, fit_intercept=True, n_jobs=1, normalize=False)"
      ]
     },
     "execution_count": 21,
     "metadata": {},
     "output_type": "execute_result"
    }
   ],
   "source": [
    "from sklearn.linear_model import LinearRegression\n",
    "# 1. Set up the model\n",
    "modelScore1 = LinearRegression()\n",
    "modelScore2 = LinearRegression()\n",
    "# 2. Use fit\n",
    "modelScore1.fit(X1_train, y1_train)\n",
    "modelScore2.fit(X2_train, y2_train)"
   ]
  },
  {
   "cell_type": "code",
   "execution_count": 22,
   "metadata": {},
   "outputs": [
    {
     "name": "stdout",
     "output_type": "stream",
     "text": [
      "6.655758165463634\n",
      "6.652774178086955\n",
      "5.962968136405042\n",
      "5.998669362286546\n"
     ]
    }
   ],
   "source": [
    "# Mean squared error for score1\n",
    "predictedScoreTrain1=modelScore1.predict(X1_train)\n",
    "predictedScoreTest1=modelScore1.predict(X1_test)\n",
    "errorScore1 = np.mean(np.subtract(y1_train.values,predictedScoreTrain1) ** 2)\n",
    "print (errorScore1)\n",
    "errorScore1 = np.mean(np.subtract(y1_test.values,predictedScoreTest1) ** 2)\n",
    "print (errorScore1)\n",
    "\n",
    "# Mean squared error for score 2\n",
    "predictedScoreTrain2=modelScore2.predict(X2_train)\n",
    "predictedScoreTest2=modelScore2.predict(X2_test)\n",
    "errorScore2 = np.mean(np.subtract(y2_train.values,predictedScoreTrain2) ** 2)\n",
    "print (errorScore2)\n",
    "errorScore2 = np.mean(np.subtract(y2_test.values,predictedScoreTest2) ** 2)\n",
    "print (errorScore2)"
   ]
  },
  {
   "cell_type": "code",
   "execution_count": 23,
   "metadata": {},
   "outputs": [
    {
     "data": {
      "text/plain": [
       "Text(0.5,1,'Residual Plot(Score 1) - Train:Blue and Test:Green')"
      ]
     },
     "execution_count": 23,
     "metadata": {},
     "output_type": "execute_result"
    },
    {
     "data": {
      "image/png": "[encoded data removed]",
      "text/plain": [
       "<Figure size 432x288 with 1 Axes>"
      ]
     },
     "metadata": {},
     "output_type": "display_data"
    }
   ],
   "source": [
    "# Residual Plot for score 1\n",
    "\n",
    "plt.scatter(predictedScoreTrain1,np.subtract(predictedScoreTrain1,y1_train.values),c='b',s=40,alpha=0.5)\n",
    "plt.scatter(predictedScoreTest1,np.subtract(predictedScoreTest1,y1_test.values),c='g',s=40)\n",
    "plt.hlines(y=0,xmin=0,xmax=50)\n",
    "\n",
    "plt.title('Residual Plot(Score 1) - Train:Blue and Test:Green')"
   ]
  },
  {
   "cell_type": "code",
   "execution_count": 24,
   "metadata": {},
   "outputs": [
    {
     "data": {
      "text/plain": [
       "Text(0.5,1,'Residual Plot(Score 2) - Train:Blue and Test:Green')"
      ]
     },
     "execution_count": 24,
     "metadata": {},
     "output_type": "execute_result"
    },
    {
     "data": {
      "image/png": "[encoded data removed]",
      "text/plain": [
       "<Figure size 432x288 with 1 Axes>"
      ]
     },
     "metadata": {},
     "output_type": "display_data"
    }
   ],
   "source": [
    "#Residual plot for score 2\n",
    "\n",
    "plt.scatter(predictedScoreTrain2,np.subtract(predictedScoreTrain2,y2_train.values),c='b',s=40,alpha=0.5)\n",
    "plt.scatter(predictedScoreTest2,np.subtract(predictedScoreTest2,y2_test.values),c='g',s=40)\n",
    "plt.hlines(y=0,xmin=0,xmax=50)\n",
    "\n",
    "plt.title('Residual Plot(Score 2) - Train:Blue and Test:Green')"
   ]
  },
  {
   "cell_type": "code",
   "execution_count": null,
   "metadata": {},
   "outputs": [],
   "source": []
  }
 ],
 "metadata": {
  "kernelspec": {
   "display_name": "Python 3",
   "language": "python",
   "name": "python3"
  },
  "language_info": {
   "codemirror_mode": {
    "name": "ipython",
    "version": 3
   },
   "file_extension": ".py",
   "mimetype": "text/x-python",
   "name": "python",
   "nbconvert_exporter": "python",
   "pygments_lexer": "ipython3",
   "version": "3.6.5"
  }
 },
 "nbformat": 4,
 "nbformat_minor": 2
}
